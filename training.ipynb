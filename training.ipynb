{
 "cells": [
  {
   "cell_type": "code",
   "execution_count": 7,
   "metadata": {},
   "outputs": [],
   "source": [
    "from sklearn.model_selection import train_test_split\n",
    "import numpy as np\n",
    "import matplotlib.pyplot as plt\n",
    "\n",
    "\n",
    "#split data into training and testing sets\n",
    "x=np.load('spec_resampled_array.npy')\n",
    "y=np.load('labels_array.npy')\n",
    "\n",
    "x_train, x_test, y_train, y_test = train_test_split(x,y,test_size=0.2,random_state=42)"
   ]
  },
  {
   "cell_type": "code",
   "execution_count": 2,
   "metadata": {},
   "outputs": [
    {
     "name": "stdout",
     "output_type": "stream",
     "text": [
      "k: 1 accuracy: 0.5811965811965812\n",
      "k: 2 accuracy: 0.5897435897435898\n",
      "k: 3 accuracy: 0.6609686609686609\n",
      "k: 4 accuracy: 0.6410256410256411\n",
      "k: 5 accuracy: 0.5868945868945868\n",
      "k: 6 accuracy: 0.6096866096866097\n",
      "k: 7 accuracy: 0.5925925925925926\n",
      "k: 8 accuracy: 0.5982905982905983\n",
      "k: 9 accuracy: 0.5868945868945868\n",
      "k: 10 accuracy: 0.5925925925925926\n"
     ]
    }
   ],
   "source": [
    "#knn test\n",
    "from sklearn.neighbors import KNeighborsClassifier\n",
    "from sklearn.metrics import accuracy_score\n",
    "\n",
    "for k in np.arange(1,11):\n",
    "    knn=KNeighborsClassifier(n_neighbors=k)\n",
    "    knn.fit(x_train.reshape(-1,x_train.shape[1]*x_train.shape[2]),y_train)\n",
    "    y_pred=knn.predict(x_test.reshape(-1,x_test.shape[1]*x_test.shape[2]))\n",
    "    print('k:',k,'accuracy:',accuracy_score(y_test,y_pred))"
   ]
  },
  {
   "cell_type": "code",
   "execution_count": 3,
   "metadata": {},
   "outputs": [
    {
     "name": "stdout",
     "output_type": "stream",
     "text": [
      "trees: 10 accuracy: 0.7635327635327636\n",
      "trees: 100 accuracy: 0.811965811965812\n",
      "trees: 250 accuracy: 0.8205128205128205\n",
      "trees: 500 accuracy: 0.8347578347578347\n",
      "trees: 1000 accuracy: 0.8404558404558404\n"
     ]
    }
   ],
   "source": [
    "from sklearn.ensemble import RandomForestClassifier\n",
    "\n",
    "for trees in [10,100,250,500,1000]:\n",
    "    rf=RandomForestClassifier(n_estimators=trees)\n",
    "    rf.fit(x_train.reshape(-1,x_train.shape[1]*x_train.shape[2]),y_train)\n",
    "    y_pred=rf.predict(x_test.reshape(-1,x_test.shape[1]*x_test.shape[2]))\n",
    "    print('trees:',trees,'accuracy:',accuracy_score(y_test,y_pred))"
   ]
  },
  {
   "cell_type": "code",
   "execution_count": 9,
   "metadata": {},
   "outputs": [],
   "source": [
    "from skfeature.function.information_theoretical_based.MRMR import mrmr\n",
    "\n",
    "feats, jcmi, mif = mrmr(x_train.reshape(-1,x.shape[1]*x.shape[2]),y_train,n_selected_features=x.shape[1]*x.shape[2])#\n"
   ]
  }
 ],
 "metadata": {
  "kernelspec": {
   "display_name": "pytorch",
   "language": "python",
   "name": "python3"
  },
  "language_info": {
   "codemirror_mode": {
    "name": "ipython",
    "version": 3
   },
   "file_extension": ".py",
   "mimetype": "text/x-python",
   "name": "python",
   "nbconvert_exporter": "python",
   "pygments_lexer": "ipython3",
   "version": "3.9.16"
  }
 },
 "nbformat": 4,
 "nbformat_minor": 2
}

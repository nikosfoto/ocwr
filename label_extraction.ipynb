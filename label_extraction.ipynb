{
 "cells": [
  {
   "cell_type": "markdown",
   "metadata": {},
   "source": [
    "#### Label extraction"
   ]
  },
  {
   "cell_type": "code",
   "execution_count": 1,
   "metadata": {},
   "outputs": [],
   "source": [
    "import numpy as np\n",
    "import os\n",
    "import random\n",
    "import scipy.signal as signal\n",
    "from  scipy.signal import ShortTimeFFT\n",
    "import scipy.signal.windows as wins\n",
    "import matplotlib.pyplot as plt"
   ]
  },
  {
   "cell_type": "code",
   "execution_count": 2,
   "metadata": {},
   "outputs": [],
   "source": [
    "# Parameters\n",
    "t_sweep=0.001\n",
    "n_rangebins=128\n",
    "bandwidth=4e8"
   ]
  },
  {
   "cell_type": "code",
   "execution_count": 3,
   "metadata": {},
   "outputs": [],
   "source": [
    "labels=[]\n",
    "spectrograms = []\n",
    "\n",
    "cwd = os.getcwd()\n",
    "# change to the folder where the dataset is stored\n",
    "base_folder=\"G:\\\\My Drive\\\\tudelft\\\\Q4\\\\Object Classification with Radar\\\\project_dataset\"\n",
    "\n",
    "subfolders = [f.path for f in os.scandir(base_folder) if f.is_dir() ]\n",
    "filenames=[]\n",
    "\n",
    "for folder in subfolders:\n",
    "    files = [f.path for f in os.scandir(folder) if f.is_file()]\n",
    "    filenames.extend(files)"
   ]
  },
  {
   "cell_type": "code",
   "execution_count": 4,
   "metadata": {},
   "outputs": [],
   "source": [
    "# STFT params\n",
    "winlength=128\n",
    "overlap=0.5\n",
    "nfft=2048\n",
    "win=wins.hann(winlength)\n",
    "hop=int(winlength*(1-overlap))"
   ]
  },
  {
   "cell_type": "code",
   "execution_count": 5,
   "metadata": {},
   "outputs": [
    {
     "name": "stdout",
     "output_type": "stream",
     "text": [
      "['G:\\\\My Drive\\\\tudelft\\\\Q4\\\\Object Classification with Radar\\\\project_dataset\\\\4 July 2018 Dataset\\\\6P62A06R2.dat', 'G:\\\\My Drive\\\\tudelft\\\\Q4\\\\Object Classification with Radar\\\\project_dataset\\\\1 December 2017 Dataset\\\\5P52A05R02.dat', 'G:\\\\My Drive\\\\tudelft\\\\Q4\\\\Object Classification with Radar\\\\project_dataset\\\\5 February 2019 UoG Dataset\\\\5P07A05R01.dat', 'G:\\\\My Drive\\\\tudelft\\\\Q4\\\\Object Classification with Radar\\\\project_dataset\\\\4 July 2018 Dataset\\\\3P65A03R1.dat', 'G:\\\\My Drive\\\\tudelft\\\\Q4\\\\Object Classification with Radar\\\\project_dataset\\\\5 February 2019 UoG Dataset\\\\4P10A04R01.dat', 'G:\\\\My Drive\\\\tudelft\\\\Q4\\\\Object Classification with Radar\\\\project_dataset\\\\7 March 2019 West Cumbria Dataset\\\\4P40A04R3.dat', 'G:\\\\My Drive\\\\tudelft\\\\Q4\\\\Object Classification with Radar\\\\project_dataset\\\\1 December 2017 Dataset\\\\6P43A06R01.dat', 'G:\\\\My Drive\\\\tudelft\\\\Q4\\\\Object Classification with Radar\\\\project_dataset\\\\7 March 2019 West Cumbria Dataset\\\\5P47A05R1.dat', 'G:\\\\My Drive\\\\tudelft\\\\Q4\\\\Object Classification with Radar\\\\project_dataset\\\\5 February 2019 UoG Dataset\\\\5P09A05R03.dat', 'G:\\\\My Drive\\\\tudelft\\\\Q4\\\\Object Classification with Radar\\\\project_dataset\\\\6 February 2019 NG Homes Dataset\\\\4P29A04R2.dat', 'G:\\\\My Drive\\\\tudelft\\\\Q4\\\\Object Classification with Radar\\\\project_dataset\\\\6 February 2019 NG Homes Dataset\\\\1P27A01R3.dat', 'G:\\\\My Drive\\\\tudelft\\\\Q4\\\\Object Classification with Radar\\\\project_dataset\\\\5 February 2019 UoG Dataset\\\\5P02A05R01.dat', 'G:\\\\My Drive\\\\tudelft\\\\Q4\\\\Object Classification with Radar\\\\project_dataset\\\\3 June 2017 Dataset\\\\5P32A05R1.dat', 'G:\\\\My Drive\\\\tudelft\\\\Q4\\\\Object Classification with Radar\\\\project_dataset\\\\6 February 2019 NG Homes Dataset\\\\4P25A04R3.dat', 'G:\\\\My Drive\\\\tudelft\\\\Q4\\\\Object Classification with Radar\\\\project_dataset\\\\7 March 2019 West Cumbria Dataset\\\\5P38A05R3.dat', 'G:\\\\My Drive\\\\tudelft\\\\Q4\\\\Object Classification with Radar\\\\project_dataset\\\\1 December 2017 Dataset\\\\1P55A01R03.dat', 'G:\\\\My Drive\\\\tudelft\\\\Q4\\\\Object Classification with Radar\\\\project_dataset\\\\5 February 2019 UoG Dataset\\\\4P13A04R01.dat', 'G:\\\\My Drive\\\\tudelft\\\\Q4\\\\Object Classification with Radar\\\\project_dataset\\\\7 March 2019 West Cumbria Dataset\\\\5P51A05R3.dat', 'G:\\\\My Drive\\\\tudelft\\\\Q4\\\\Object Classification with Radar\\\\project_dataset\\\\4 July 2018 Dataset\\\\3P59A03R3.dat', 'G:\\\\My Drive\\\\tudelft\\\\Q4\\\\Object Classification with Radar\\\\project_dataset\\\\6 February 2019 NG Homes Dataset\\\\1P25A01R1.dat']\n"
     ]
    }
   ],
   "source": [
    "#Pick 20 random filenames\n",
    "test_filenames=random.sample(filenames,20)\n",
    "print(test_filenames)\n",
    "\n",
    "# Print\n",
    "for i, filename in enumerate(test_filenames):\n",
    "    with open(filename, 'r') as file:\n",
    "        data = np.loadtxt(file, delimiter=' ', skiprows=4, dtype=np.complex_, converters=lambda s: complex(s.decode().replace('i', 'j')))\n",
    "        data_numsamples=len(data)\n",
    "        data_time=data_numsamples*t_sweep/n_rangebins\n",
    "\n",
    "        fs=int(n_rangebins/t_sweep)\n",
    "        n_sweeps=data_time/t_sweep\n",
    "\n",
    "        data = data.reshape(n_rangebins, int(n_sweeps), order='F')\n",
    "        data_fft = np.fft.fftshift(np.fft.fft(data, axis=0), axes=0)\n",
    "        data_fft = data_fft[int(n_rangebins/2):,:]\n",
    "        b, a = signal.butter(4,0.0075, 'high')\n",
    "        range_profile = signal.filtfilt(b, a, data_fft, axis=1)\n",
    "        prof=np.sum(range_profile,axis=0)\n",
    "        stft=ShortTimeFFT(win, hop, mfft=nfft, fs=fs, scale_to='magnitude', fft_mode='centered')\n",
    "        nul,nul,f_lo,f_hi=stft.extent(int(fs*n_sweeps))\n",
    "        Sxx = stft.spectrogram(prof,axis=0)\n",
    "        spectrograms.append(Sxx)\n",
    "\n",
    "\n",
    "    name_of_file = filename.split('\\\\')[-1][:-4]\n",
    "    activity = int(name_of_file.split('P')[0])\n",
    "    subject_id = int(name_of_file.split('P')[1].split('A')[0])\n",
    "    activity_performed = int(name_of_file.split('P')[1].split('A')[1].split('R')[0])\n",
    "    repetition = int(name_of_file.split('P')[1].split('A')[1].split('R')[1])\n",
    "\n",
    "    labels.append([activity, subject_id, activity_performed, repetition])\n",
    "    # print(name_of_file, activity, subject_id, activity_performed, repetition)\n",
    "        "
   ]
  },
  {
   "cell_type": "code",
   "execution_count": 1,
   "metadata": {},
   "outputs": [
    {
     "ename": "NameError",
     "evalue": "name 'np' is not defined",
     "output_type": "error",
     "traceback": [
      "\u001b[1;31m---------------------------------------------------------------------------\u001b[0m",
      "\u001b[1;31mNameError\u001b[0m                                 Traceback (most recent call last)",
      "Cell \u001b[1;32mIn[1], line 1\u001b[0m\n\u001b[1;32m----> 1\u001b[0m freq_axis\u001b[38;5;241m=\u001b[39m\u001b[43mnp\u001b[49m\u001b[38;5;241m.\u001b[39mlinspace(\u001b[38;5;241m0\u001b[39m,n_rangebins,n_rangebins)\u001b[38;5;241m*\u001b[39mfs\u001b[38;5;241m/\u001b[39m(\u001b[38;5;241m2\u001b[39m\u001b[38;5;241m*\u001b[39mn_rangebins)\n\u001b[0;32m      2\u001b[0m range_axis\u001b[38;5;241m=\u001b[39mfreq_axis\u001b[38;5;241m*\u001b[39m\u001b[38;5;241m3e8\u001b[39m\u001b[38;5;241m*\u001b[39mt_sweep\u001b[38;5;241m/\u001b[39m(\u001b[38;5;241m2\u001b[39m\u001b[38;5;241m*\u001b[39mbandwidth)\n\u001b[0;32m      3\u001b[0m time_axis\u001b[38;5;241m=\u001b[39mnp\u001b[38;5;241m.\u001b[39marange(\u001b[38;5;241m0\u001b[39m, data_time, t_sweep)\n",
      "\u001b[1;31mNameError\u001b[0m: name 'np' is not defined"
     ]
    }
   ],
   "source": [
    "freq_axis=np.linspace(0,n_rangebins,n_rangebins)*fs/(2*n_rangebins)\n",
    "range_axis=freq_axis*3e8*t_sweep/(2*bandwidth)\n",
    "time_axis=np.arange(0, data_time, t_sweep)\n",
    "\n",
    "activity_dict = {1: 'Walking', 2: 'Sitting Down', 3: 'Standing Up', 4: 'Picking up an Object', 5: 'Drinking Water', 6: 'Falling'}\n",
    "\n",
    "for i in range(10):\n",
    "    plt.figure()\n",
    "    plt.imshow(20*np.log10(spectrograms[i]), aspect='auto', extent=[time_axis[0], time_axis[-1], f_lo, f_hi],origin='upper',interpolation='none',cmap='jet')\n",
    "    plt.colorbar()\n",
    "    plt.xlabel('Time (s)')\n",
    "    plt.ylabel('Frequency (Hz)')\n",
    "    plt.title(f\"{activity_dict[labels[i][2]]}, Subject {labels[i][1]}, Repetition {labels[i][3]}\")\n",
    "    plt.show()"
   ]
  },
  {
   "cell_type": "code",
   "execution_count": null,
   "metadata": {},
   "outputs": [],
   "source": []
  },
  {
   "cell_type": "code",
   "execution_count": null,
   "metadata": {},
   "outputs": [],
   "source": []
  }
 ],
 "metadata": {
  "kernelspec": {
   "display_name": "Python 3",
   "language": "python",
   "name": "python3"
  },
  "language_info": {
   "codemirror_mode": {
    "name": "ipython",
    "version": 3
   },
   "file_extension": ".py",
   "mimetype": "text/x-python",
   "name": "python",
   "nbconvert_exporter": "python",
   "pygments_lexer": "ipython3",
   "version": "3.9.16"
  }
 },
 "nbformat": 4,
 "nbformat_minor": 2
}

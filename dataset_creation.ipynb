{
 "cells": [
  {
   "cell_type": "markdown",
   "metadata": {},
   "source": [
    "### Create spectrograms from raw data"
   ]
  },
  {
   "cell_type": "markdown",
   "metadata": {},
   "source": [
    "Note: This file has already served its purpose. The spectrograms, the labels and the subjects arrays have already been created, and saved in the folder datasets/"
   ]
  },
  {
   "cell_type": "code",
   "execution_count": 9,
   "metadata": {},
   "outputs": [],
   "source": [
    "import os\n",
    "import scipy.signal as signal\n",
    "import numpy as np\n",
    "import matplotlib.pyplot as plt\n",
    "from  scipy.signal import ShortTimeFFT\n",
    "import scipy.signal.windows as wins\n",
    "\n",
    "cwd = os.getcwd()\n",
    "base_folder=\"Dataset_848\"\n",
    "subfolders = [f.path for f in os.scandir(base_folder) if f.is_dir() ]\n",
    "filenames=[]\n",
    "\n",
    "for folder in subfolders:\n",
    "    files = [f.path for f in os.scandir(folder) if f.is_file()]\n",
    "    filenames.extend(files)"
   ]
  },
  {
   "cell_type": "markdown",
   "metadata": {},
   "source": [
    "Create subjects array"
   ]
  },
  {
   "cell_type": "code",
   "execution_count": 11,
   "metadata": {},
   "outputs": [
    {
     "name": "stdout",
     "output_type": "stream",
     "text": [
      "[ 1  2  3  4  5  6  7  8  9 10 11 12 13 14 15 16 17 18 19 20 21 22 23 24\n",
      " 25 26 27 28 29 30 31 32 33 34 35 36 37 38 39 40 41 42 43 44 45 46 47 48\n",
      " 49 50 51 52 53 54 55 56 57 58 59 60 61 62 63 64 65 66 67 68 69 70 71 72]\n"
     ]
    }
   ],
   "source": [
    "subjects = []\n",
    "for filename in filenames:\n",
    "    name_of_file = filename.split('\\\\')[-1][:-4]\n",
    "    subject_id = int(name_of_file.split('P')[1].split('A')[0])\n",
    "    subjects.append(subject_id)\n",
    "subjects = np.array(subjects)\n",
    "subjects.shape\n",
    "np.save('datasets/subjects_array.npy', subjects)"
   ]
  },
  {
   "cell_type": "markdown",
   "metadata": {},
   "source": [
    "Create spectrograms and labels array"
   ]
  },
  {
   "cell_type": "code",
   "execution_count": 1,
   "metadata": {},
   "outputs": [],
   "source": [
    "# Parameters\n",
    "t_sweep=0.001\n",
    "n_rangebins=128\n",
    "bandwidth=4e8\n",
    "fs=int(n_rangebins/t_sweep)\n",
    "\n",
    "winlength=128\n",
    "overlap=0.5\n",
    "nfft=2048\n",
    "win=wins.hann(winlength)\n",
    "hop=int(winlength*(1-overlap))\n",
    "\n",
    "spectrograms=[]\n",
    "labels=[]\n",
    "\n",
    "b, a = signal.butter(4,0.0075, 'high') # filter coefficients for MTI filter\n",
    "\n",
    "for filename in filenames: #iterate over the whole dataset\n",
    "    #get the label based on\n",
    "    name_of_file = filename.split('\\\\')[-1][:-4]\n",
    "    activity = int(name_of_file.split('P')[0]) \n",
    "   \n",
    "    labels.append(activity)\n",
    "\n",
    "    with open(filename, 'r') as file:\n",
    "        data = np.loadtxt(file, delimiter=' ', skiprows=4, dtype=np.complex_, converters=lambda s: complex(s.decode().replace('i', 'j')))\n",
    "        data_numsamples=len(data)\n",
    "        data_time=data_numsamples*t_sweep/n_rangebins\n",
    "        n_sweeps=data_time/t_sweep\n",
    "\n",
    "        data = data.reshape(n_rangebins, int(n_sweeps), order='F') #reshape data from vector to matrix of size rangebins x sweeps\n",
    "\n",
    "        data_fft = np.fft.fftshift(np.fft.fft(data, axis=0), axes=0) #perform fft on each sweep to convert beat frequency to range returns\n",
    "        data_fft = data_fft[int(n_rangebins/2):,:]# keep only the bottom half since fft is symmetric\n",
    "        range_profile = signal.filtfilt(b, a, data_fft, axis=1)# MTI filter\n",
    "        prof=np.sum(range_profile,axis=0) #sum all range returns to get the profile\n",
    "\n",
    "        stft=ShortTimeFFT(win, hop, mfft=nfft, fs=fs, scale_to='magnitude', fft_mode='centered')\n",
    "\n",
    "        Sxx = stft.spectrogram(prof,axis=0) #compute the spectrogram\n",
    "        nul,nul,f_lo,f_hi=stft.extent(int(fs*n_sweeps))\n",
    "\n",
    "        spectrograms.append(Sxx)\n",
    "\n",
    "    '''\n",
    "    # range and time axes\n",
    "    freq_axis=np.linspace(0,n_rangebins,n_rangebins)*fs/(2*n_rangebins)\n",
    "    range_axis=freq_axis*3e8*t_sweep/(2*bandwidth)\n",
    "    time_axis=np.arange(0, data_time, t_sweep)\n",
    "    '''  \n",
    "    \n",
    "    # check progress every 50 samples \n",
    "    '''if len(labels)%50==0:\n",
    "        print(len(labels))'''"
   ]
  },
  {
   "cell_type": "markdown",
   "metadata": {},
   "source": [
    "## Resampling Spectrograms to match the 80 samples of the 5 seconds activities\n",
    "Then normalize and convert to logscale"
   ]
  },
  {
   "cell_type": "code",
   "execution_count": 17,
   "metadata": {},
   "outputs": [],
   "source": [
    "from scipy.signal import resample\n",
    "\n",
    "dataset=list(zip(spectrograms, labels))\n",
    "dataset_resampled=[]\n",
    "for i in range(len(dataset)):\n",
    "    if dataset[i][0].shape[1]!=80:\n",
    "        dataset_resampled.append((resample(dataset[i][0], 80, axis=1), dataset[i][1])) #resample the spectrogram to 80 time bins and keep the label\n",
    "    else:\n",
    "        dataset_resampled.append(dataset[i]) #keep the spectrogram as is and keep the label"
   ]
  },
  {
   "cell_type": "code",
   "execution_count": 23,
   "metadata": {},
   "outputs": [
    {
     "name": "stdout",
     "output_type": "stream",
     "text": [
      "(1754, 2048, 80)\n",
      "(1754,)\n"
     ]
    }
   ],
   "source": [
    "spec_resampled, labels = zip(*dataset_resampled)\n",
    "\n",
    "spec_resampled_array=np.array(spec_resampled)\n",
    "labels_array=np.array(labels)\n",
    "\n",
    "print(spec_resampled_array.shape)\n",
    "print(labels_array.shape)\n",
    "\n",
    "#save the resampled data\n",
    "np.save('datasets/spec_resampled_array.npy', spec_resampled_array)\n",
    "np.save('datasets/labels_array.npy', labels_array)\n",
    "\n",
    "num_samples, num_freqs, num_frames = spec_resampled_array.shape\n",
    "scaled_specs = np.zeros((num_samples, num_freqs, num_frames))\n",
    "\n",
    "for i in range(num_samples):\n",
    "    spec = spec_resampled_array[i,:,:]\n",
    "    scaled_specs[i,:,:] = 20*np.log10(abs(spec_resampled_array)/np.max(abs(spec_resampled_array)))\n",
    "\n",
    "np.save('datasets/scaled_spec_resampled_array.npy', scaled_specs)"
   ]
  },
  {
   "cell_type": "code",
   "execution_count": null,
   "metadata": {},
   "outputs": [],
   "source": [
    "np.all(scaled_specs == 20*np.log10(abs(spec_resampled_array)/np.max(abs(spec_resampled_array)))) #check if the scaling is correct"
   ]
  }
 ],
 "metadata": {
  "kernelspec": {
   "display_name": "pytorch",
   "language": "python",
   "name": "python3"
  },
  "language_info": {
   "codemirror_mode": {
    "name": "ipython",
    "version": 3
   },
   "file_extension": ".py",
   "mimetype": "text/x-python",
   "name": "python",
   "nbconvert_exporter": "python",
   "pygments_lexer": "ipython3",
   "version": "3.11.9"
  }
 },
 "nbformat": 4,
 "nbformat_minor": 2
}

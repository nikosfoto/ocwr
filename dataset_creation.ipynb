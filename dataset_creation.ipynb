{
 "cells": [
  {
   "cell_type": "code",
   "execution_count": 9,
   "metadata": {},
   "outputs": [],
   "source": [
    "import os\n",
    "import scipy.signal as signal\n",
    "import numpy as np\n",
    "import matplotlib.pyplot as plt\n",
    "#from  scipy.signal import ShortTimeFFT\n",
    "#import scipy.signal.windows as wins\n",
    "import pickle\n",
    "\n",
    "\n",
    "cwd = os.getcwd()\n",
    "base_folder=\"Dataset_848\"\n",
    "subfolders = [f.path for f in os.scandir(base_folder) if f.is_dir() ]\n",
    "filenames=[]\n",
    "\n",
    "for folder in subfolders:\n",
    "    files = [f.path for f in os.scandir(folder) if f.is_file()]\n",
    "    filenames.extend(files)"
   ]
  },
  {
   "cell_type": "code",
   "execution_count": 7,
   "metadata": {},
   "outputs": [
    {
     "name": "stdout",
     "output_type": "stream",
     "text": [
      "Collecting scipy\n",
      "  Using cached scipy-1.13.1-cp39-cp39-win_amd64.whl (46.2 MB)\n",
      "Requirement already satisfied: numpy<2.3,>=1.22.4 in c:\\users\\giaco\\miniconda3\\envs\\tensorflow\\lib\\site-packages (from scipy) (1.24.2)\n",
      "Installing collected packages: scipy\n",
      "Successfully installed scipy-1.13.1\n"
     ]
    }
   ],
   "source": [
    "!pip install scipy"
   ]
  },
  {
   "cell_type": "markdown",
   "metadata": {},
   "source": [
    "$f_0$=5.8GHz\n",
    "BW=400MHz\n",
    "$\\tau_s$=0.001s"
   ]
  },
  {
   "cell_type": "code",
   "execution_count": 11,
   "metadata": {},
   "outputs": [
    {
     "name": "stdout",
     "output_type": "stream",
     "text": [
      "[ 1  2  3  4  5  6  7  8  9 10 11 12 13 14 15 16 17 18 19 20 21 22 23 24\n",
      " 25 26 27 28 29 30 31 32 33 34 35 36 37 38 39 40 41 42 43 44 45 46 47 48\n",
      " 49 50 51 52 53 54 55 56 57 58 59 60 61 62 63 64 65 66 67 68 69 70 71 72]\n"
     ]
    }
   ],
   "source": [
    "# Only save subjects id\n",
    "subjects = []\n",
    "for filename in filenames:\n",
    "    name_of_file = filename.split('\\\\')[-1][:-4]\n",
    "    subject_id = int(name_of_file.split('P')[1].split('A')[0])\n",
    "    subjects.append(subject_id)\n",
    "subjects = np.array(subjects)\n",
    "subjects.shape\n",
    "np.save('subjects_array.npy', subjects)"
   ]
  },
  {
   "cell_type": "code",
   "execution_count": 5,
   "metadata": {},
   "outputs": [
    {
     "name": "stdout",
     "output_type": "stream",
     "text": [
      "50\n",
      "100\n",
      "150\n",
      "200\n",
      "250\n",
      "300\n",
      "350\n",
      "400\n",
      "450\n",
      "500\n",
      "550\n",
      "600\n",
      "650\n",
      "700\n",
      "750\n",
      "800\n",
      "850\n",
      "900\n",
      "950\n",
      "1000\n",
      "1050\n",
      "1100\n",
      "1150\n",
      "1200\n",
      "1250\n",
      "1300\n",
      "1350\n",
      "1400\n",
      "1450\n",
      "1500\n",
      "1550\n",
      "1600\n",
      "1650\n",
      "1700\n",
      "1750\n"
     ]
    },
    {
     "ename": "NameError",
     "evalue": "name 'pickle' is not defined",
     "output_type": "error",
     "traceback": [
      "\u001b[1;31m---------------------------------------------------------------------------\u001b[0m",
      "\u001b[1;31mNameError\u001b[0m                                 Traceback (most recent call last)",
      "Cell \u001b[1;32mIn[5], line 56\u001b[0m\n\u001b[0;32m     54\u001b[0m \u001b[38;5;66;03m#save the data\u001b[39;00m\n\u001b[0;32m     55\u001b[0m \u001b[38;5;28;01mwith\u001b[39;00m \u001b[38;5;28mopen\u001b[39m(\u001b[38;5;124m'\u001b[39m\u001b[38;5;124mspectrograms.pkl\u001b[39m\u001b[38;5;124m'\u001b[39m, \u001b[38;5;124m'\u001b[39m\u001b[38;5;124mwb\u001b[39m\u001b[38;5;124m'\u001b[39m) \u001b[38;5;28;01mas\u001b[39;00m f:\n\u001b[1;32m---> 56\u001b[0m     \u001b[43mpickle\u001b[49m\u001b[38;5;241m.\u001b[39mdump(spectrograms, f)\n\u001b[0;32m     57\u001b[0m \u001b[38;5;28;01mwith\u001b[39;00m \u001b[38;5;28mopen\u001b[39m(\u001b[38;5;124m'\u001b[39m\u001b[38;5;124mlabels.pkl\u001b[39m\u001b[38;5;124m'\u001b[39m, \u001b[38;5;124m'\u001b[39m\u001b[38;5;124mwb\u001b[39m\u001b[38;5;124m'\u001b[39m) \u001b[38;5;28;01mas\u001b[39;00m f:\n\u001b[0;32m     58\u001b[0m     pickle\u001b[38;5;241m.\u001b[39mdump(labels, f)\n",
      "\u001b[1;31mNameError\u001b[0m: name 'pickle' is not defined"
     ]
    }
   ],
   "source": [
    "#parameters\n",
    "t_sweep=0.001\n",
    "n_rangebins=128\n",
    "bandwidth=4e8\n",
    "\n",
    "winlength=128\n",
    "overlap=0.5\n",
    "nfft=2048\n",
    "win=wins.hann(winlength)\n",
    "hop=int(winlength*(1-overlap))\n",
    "\n",
    "spectrograms=[]\n",
    "labels=[]\n",
    "\n",
    "b, a = signal.butter(4,0.0075, 'high') # filter coefficients for MTI filter\n",
    "\n",
    "for filename in filenames: #iterate over the whole dataset\n",
    "    #get the label based on\n",
    "    name_of_file = filename.split('\\\\')[-1][:-4]\n",
    "    activity = int(name_of_file.split('P')[0]) \n",
    "   \n",
    "    labels.append(activity)\n",
    "\n",
    "    with open(filename, 'r') as file:\n",
    "        data = np.loadtxt(file, delimiter=' ', skiprows=4, dtype=np.complex_, converters=lambda s: complex(s.decode().replace('i', 'j')))\n",
    "        data_numsamples=len(data)\n",
    "        data_time=data_numsamples*t_sweep/n_rangebins\n",
    "        fs=int(n_rangebins/t_sweep)\n",
    "        n_sweeps=data_time/t_sweep\n",
    "\n",
    "        data = data.reshape(n_rangebins, int(n_sweeps), order='F') #reshape data from vector to matrix of size rangebins x sweeps\n",
    "\n",
    "        data_fft = np.fft.fftshift(np.fft.fft(data, axis=0), axes=0) #perform fft on each sweep to convert beat frequency to range returns\n",
    "        data_fft = data_fft[int(n_rangebins/2):,:]# keep only the bottom half since fft is symmetric\n",
    "        range_profile = signal.filtfilt(b, a, data_fft, axis=1)# MTI filter\n",
    "        prof=np.sum(range_profile,axis=0) #sum all range returns to get the profile\n",
    "\n",
    "        stft=ShortTimeFFT(win, hop, mfft=nfft, fs=fs, scale_to='magnitude', fft_mode='centered')\n",
    "\n",
    "        Sxx = stft.spectrogram(prof,axis=0) #compute the spectrogram\n",
    "        nul,nul,f_lo,f_hi=stft.extent(int(fs*n_sweeps))\n",
    "\n",
    "        spectrograms.append(Sxx)\n",
    "\n",
    "    '''# range and time axes\n",
    "    freq_axis=np.linspace(0,n_rangebins,n_rangebins)*fs/(2*n_rangebins)\n",
    "    range_axis=freq_axis*3e8*t_sweep/(2*bandwidth)\n",
    "    time_axis=np.arange(0, data_time, t_sweep)'''  \n",
    "    \n",
    "    # check progress every 50 samples \n",
    "    if len(labels)%50==0:\n",
    "        print(len(labels))"
   ]
  },
  {
   "cell_type": "code",
   "execution_count": 2,
   "metadata": {},
   "outputs": [
    {
     "ename": "NameError",
     "evalue": "name 'spectrograms' is not defined",
     "output_type": "error",
     "traceback": [
      "\u001b[1;31m---------------------------------------------------------------------------\u001b[0m",
      "\u001b[1;31mNameError\u001b[0m                                 Traceback (most recent call last)",
      "Cell \u001b[1;32mIn[2], line 3\u001b[0m\n\u001b[0;32m      1\u001b[0m \u001b[38;5;66;03m#save the data\u001b[39;00m\n\u001b[0;32m      2\u001b[0m \u001b[38;5;28;01mwith\u001b[39;00m \u001b[38;5;28mopen\u001b[39m(\u001b[38;5;124m'\u001b[39m\u001b[38;5;124mspectrograms.pkl\u001b[39m\u001b[38;5;124m'\u001b[39m, \u001b[38;5;124m'\u001b[39m\u001b[38;5;124mwb\u001b[39m\u001b[38;5;124m'\u001b[39m) \u001b[38;5;28;01mas\u001b[39;00m f:\n\u001b[1;32m----> 3\u001b[0m     pickle\u001b[38;5;241m.\u001b[39mdump(\u001b[43mspectrograms\u001b[49m, f)\n\u001b[0;32m      4\u001b[0m \u001b[38;5;28;01mwith\u001b[39;00m \u001b[38;5;28mopen\u001b[39m(\u001b[38;5;124m'\u001b[39m\u001b[38;5;124mlabels.pkl\u001b[39m\u001b[38;5;124m'\u001b[39m, \u001b[38;5;124m'\u001b[39m\u001b[38;5;124mwb\u001b[39m\u001b[38;5;124m'\u001b[39m) \u001b[38;5;28;01mas\u001b[39;00m f:\n\u001b[0;32m      5\u001b[0m     pickle\u001b[38;5;241m.\u001b[39mdump(labels, f)\n",
      "\u001b[1;31mNameError\u001b[0m: name 'spectrograms' is not defined"
     ]
    }
   ],
   "source": [
    "#save the data\n",
    "with open('spectrograms.pkl', 'wb') as f:\n",
    "    pickle.dump(spectrograms, f)\n",
    "with open('labels.pkl', 'wb') as f:\n",
    "    pickle.dump(labels, f)"
   ]
  },
  {
   "cell_type": "code",
   "execution_count": 10,
   "metadata": {},
   "outputs": [
    {
     "ename": "EOFError",
     "evalue": "Ran out of input",
     "output_type": "error",
     "traceback": [
      "\u001b[1;31m---------------------------------------------------------------------------\u001b[0m",
      "\u001b[1;31mEOFError\u001b[0m                                  Traceback (most recent call last)",
      "Cell \u001b[1;32mIn[10], line 1\u001b[0m\n\u001b[1;32m----> 1\u001b[0m spectrograms\u001b[38;5;241m=\u001b[39m\u001b[43mpickle\u001b[49m\u001b[38;5;241;43m.\u001b[39;49m\u001b[43mload\u001b[49m\u001b[43m(\u001b[49m\u001b[38;5;28;43mopen\u001b[39;49m\u001b[43m(\u001b[49m\u001b[38;5;124;43m'\u001b[39;49m\u001b[38;5;124;43mspectrograms.pkl\u001b[39;49m\u001b[38;5;124;43m'\u001b[39;49m\u001b[43m,\u001b[49m\u001b[43m \u001b[49m\u001b[38;5;124;43m'\u001b[39;49m\u001b[38;5;124;43mrb\u001b[39;49m\u001b[38;5;124;43m'\u001b[39;49m\u001b[43m)\u001b[49m\u001b[43m)\u001b[49m\n\u001b[0;32m      2\u001b[0m labels\u001b[38;5;241m=\u001b[39mpickle\u001b[38;5;241m.\u001b[39mload(\u001b[38;5;28mopen\u001b[39m(\u001b[38;5;124m'\u001b[39m\u001b[38;5;124mlabels.pkl\u001b[39m\u001b[38;5;124m'\u001b[39m, \u001b[38;5;124m'\u001b[39m\u001b[38;5;124mrb\u001b[39m\u001b[38;5;124m'\u001b[39m))\n\u001b[0;32m      4\u001b[0m \u001b[38;5;66;03m#check length of spectrograms and labels\u001b[39;00m\n",
      "\u001b[1;31mEOFError\u001b[0m: Ran out of input"
     ]
    }
   ],
   "source": [
    "spectrograms=pickle.load(open('spectrograms.pkl', 'rb'))\n",
    "labels=pickle.load(open('labels.pkl', 'rb'))\n",
    "\n",
    "#check length of spectrograms and labels\n",
    "print(len(spectrograms))\n",
    "print(len(labels))\n",
    "\n",
    "#join the spectrograms and labels\n",
    "dataset = list(zip(spectrograms, labels))"
   ]
  },
  {
   "cell_type": "code",
   "execution_count": 11,
   "metadata": {},
   "outputs": [
    {
     "name": "stdout",
     "output_type": "stream",
     "text": [
      "8\n",
      "305\n",
      "1441\n"
     ]
    }
   ],
   "source": [
    "# split the dataset according to the second dimension of the first element of the tuple\n",
    "longer=[]\n",
    "long=[]\n",
    "short=[]\n",
    "\n",
    "for i in range(len(dataset)):\n",
    "    if dataset[i][0].shape[1]==158:\n",
    "        long.append(dataset[i])\n",
    "    elif dataset[i][0].shape[1]==80:\n",
    "        short.append(dataset[i])\n",
    "    elif dataset[i][0].shape[1]==314:\n",
    "        longer.append(dataset[i])\n",
    "    else:\n",
    "        print('sample number:', i, 'shape:', dataset[i][0].shape)\n",
    "        raise ValueError('Unexpected number of time samples')\n",
    "\n",
    "print(len(longer))\n",
    "print(len(long))\n",
    "print(len(short))\n",
    "\n",
    "## save the lists to files for later use\n",
    "with open('longer.pkl', 'wb') as f:\n",
    "    pickle.dump(longer, f)\n",
    "\n",
    "with open('long.pkl', 'wb') as f:\n",
    "    pickle.dump(long, f)\n",
    "\n",
    "with open('short.pkl', 'wb') as f:\n",
    "    pickle.dump(short, f)"
   ]
  },
  {
   "cell_type": "markdown",
   "metadata": {},
   "source": [
    "## decimating the longer walking samples"
   ]
  },
  {
   "cell_type": "code",
   "execution_count": 17,
   "metadata": {},
   "outputs": [],
   "source": [
    "from scipy.signal import resample\n",
    "\n",
    "dataset_resampled=[]\n",
    "for i in range(len(dataset)):\n",
    "    if dataset[i][0].shape[1]!=80:\n",
    "        dataset_resampled.append((resample(dataset[i][0], 80, axis=1), dataset[i][1]))\n",
    "    else:\n",
    "        dataset_resampled.append(dataset[i])\n"
   ]
  },
  {
   "cell_type": "code",
   "execution_count": 23,
   "metadata": {},
   "outputs": [
    {
     "name": "stdout",
     "output_type": "stream",
     "text": [
      "(1754, 2048, 80)\n",
      "(1754,)\n"
     ]
    }
   ],
   "source": [
    "spec_resampled, labels = zip(*dataset_resampled)\n",
    "\n",
    "spec_resampled_array=np.array(spec_resampled)\n",
    "labels_array=np.array(labels)\n",
    "\n",
    "print(spec_resampled_array.shape)\n",
    "print(labels_array.shape)\n",
    "\n",
    "#save the resampled data\n",
    "np.save('spec_resampled_array.npy', spec_resampled_array)\n",
    "np.save('labels_array.npy', labels_array)\n"
   ]
  },
  {
   "cell_type": "code",
   "execution_count": 18,
   "metadata": {},
   "outputs": [
    {
     "ename": "ValueError",
     "evalue": "setting an array element with a sequence. The requested array has an inhomogeneous shape after 2 dimensions. The detected shape was (1754, 2) + inhomogeneous part.",
     "output_type": "error",
     "traceback": [
      "\u001b[1;31m---------------------------------------------------------------------------\u001b[0m",
      "\u001b[1;31mValueError\u001b[0m                                Traceback (most recent call last)",
      "Cell \u001b[1;32mIn[18], line 1\u001b[0m\n\u001b[1;32m----> 1\u001b[0m dataset_resampled\u001b[38;5;241m=\u001b[39m\u001b[43mnp\u001b[49m\u001b[38;5;241;43m.\u001b[39;49m\u001b[43marray\u001b[49m\u001b[43m(\u001b[49m\u001b[43mdataset_resampled\u001b[49m\u001b[43m)\u001b[49m\n\u001b[0;32m      2\u001b[0m \u001b[38;5;28mprint\u001b[39m(dataset_resampled\u001b[38;5;241m.\u001b[39mshape)\n\u001b[0;32m      4\u001b[0m \u001b[38;5;66;03m#save the resampled dataset\u001b[39;00m\n",
      "\u001b[1;31mValueError\u001b[0m: setting an array element with a sequence. The requested array has an inhomogeneous shape after 2 dimensions. The detected shape was (1754, 2) + inhomogeneous part."
     ]
    }
   ],
   "source": []
  },
  {
   "cell_type": "markdown",
   "metadata": {},
   "source": [
    "## padding"
   ]
  },
  {
   "cell_type": "code",
   "execution_count": 9,
   "metadata": {},
   "outputs": [],
   "source": [
    "dataset_padded=[]\n",
    "for i in range(len(dataset)):\n",
    "    dataset_padded.append((np.pad(dataset[i][0], ((0,0),(0,314-dataset[i][0].shape[1]))), dataset[i][1]))"
   ]
  },
  {
   "cell_type": "code",
   "execution_count": 12,
   "metadata": {},
   "outputs": [],
   "source": [
    "padded_array,labels_array=zip(*dataset_padded)\n",
    "padded_array=np.array(padded_array)\n",
    "labels_array=np.array(labels_array)"
   ]
  },
  {
   "cell_type": "code",
   "execution_count": 13,
   "metadata": {},
   "outputs": [
    {
     "name": "stdout",
     "output_type": "stream",
     "text": [
      "(1754, 2048, 314)\n",
      "(1754,)\n",
      "[1 2 3 4 5 6]\n"
     ]
    }
   ],
   "source": [
    "print(padded_array.shape)\n",
    "print(labels_array.shape)\n",
    "\n",
    "print(np.unique(labels_array))"
   ]
  },
  {
   "cell_type": "markdown",
   "metadata": {},
   "source": [
    "### test stuff to look for longer samples"
   ]
  },
  {
   "cell_type": "code",
   "execution_count": 21,
   "metadata": {},
   "outputs": [
    {
     "name": "stdout",
     "output_type": "stream",
     "text": [
      "['Dataset_848\\\\6 February 2019 NG Homes Dataset\\\\1P08A01R1.dat', 'Dataset_848\\\\6 February 2019 NG Homes Dataset\\\\1P08A01R2.dat', 'Dataset_848\\\\6 February 2019 NG Homes Dataset\\\\1P08A01R3.dat', 'Dataset_848\\\\6 February 2019 NG Homes Dataset\\\\1P18A01R1.dat', 'Dataset_848\\\\6 February 2019 NG Homes Dataset\\\\1P18A01R2.dat', 'Dataset_848\\\\6 February 2019 NG Homes Dataset\\\\1P18A01R3.dat', 'Dataset_848\\\\6 February 2019 NG Homes Dataset\\\\1P19A01R1.dat', 'Dataset_848\\\\6 February 2019 NG Homes Dataset\\\\1P19A01R2.dat', 'Dataset_848\\\\6 February 2019 NG Homes Dataset\\\\1P19A01R3.dat', 'Dataset_848\\\\6 February 2019 NG Homes Dataset\\\\1P20A01R1.dat', 'Dataset_848\\\\6 February 2019 NG Homes Dataset\\\\1P20A01R2.dat', 'Dataset_848\\\\6 February 2019 NG Homes Dataset\\\\1P20A01R3.dat', 'Dataset_848\\\\6 February 2019 NG Homes Dataset\\\\1P21A01R1.dat', 'Dataset_848\\\\6 February 2019 NG Homes Dataset\\\\1P21A01R2.dat', 'Dataset_848\\\\6 February 2019 NG Homes Dataset\\\\1P22A01R1.dat', 'Dataset_848\\\\6 February 2019 NG Homes Dataset\\\\1P22A01R2.dat', 'Dataset_848\\\\6 February 2019 NG Homes Dataset\\\\1P22A01R3.dat', 'Dataset_848\\\\6 February 2019 NG Homes Dataset\\\\1P23A01R1.dat', 'Dataset_848\\\\6 February 2019 NG Homes Dataset\\\\1P23A01R2.dat', 'Dataset_848\\\\6 February 2019 NG Homes Dataset\\\\1P24A01R1.dat', 'Dataset_848\\\\6 February 2019 NG Homes Dataset\\\\1P24A01R2.dat', 'Dataset_848\\\\6 February 2019 NG Homes Dataset\\\\1P24A01R3.dat', 'Dataset_848\\\\6 February 2019 NG Homes Dataset\\\\1P25A01R1.dat', 'Dataset_848\\\\6 February 2019 NG Homes Dataset\\\\1P25A01R2.dat', 'Dataset_848\\\\6 February 2019 NG Homes Dataset\\\\1P25A01R3.dat', 'Dataset_848\\\\6 February 2019 NG Homes Dataset\\\\1P26A01R1.dat', 'Dataset_848\\\\6 February 2019 NG Homes Dataset\\\\1P26A01R2.dat', 'Dataset_848\\\\6 February 2019 NG Homes Dataset\\\\1P26A01R3.dat', 'Dataset_848\\\\6 February 2019 NG Homes Dataset\\\\1P27A01R1.dat', 'Dataset_848\\\\6 February 2019 NG Homes Dataset\\\\1P27A01R2.dat', 'Dataset_848\\\\6 February 2019 NG Homes Dataset\\\\1P27A01R3.dat', 'Dataset_848\\\\6 February 2019 NG Homes Dataset\\\\1P28A01R1.dat', 'Dataset_848\\\\6 February 2019 NG Homes Dataset\\\\1P28A01R2.dat', 'Dataset_848\\\\6 February 2019 NG Homes Dataset\\\\1P28A01R3.dat', 'Dataset_848\\\\6 February 2019 NG Homes Dataset\\\\1P29A01R1.dat', 'Dataset_848\\\\6 February 2019 NG Homes Dataset\\\\1P29A01R2.dat', 'Dataset_848\\\\6 February 2019 NG Homes Dataset\\\\1P29A01R3.dat', 'Dataset_848\\\\6 February 2019 NG Homes Dataset\\\\1P30A01R1.dat', 'Dataset_848\\\\6 February 2019 NG Homes Dataset\\\\1P30A01R2.dat', 'Dataset_848\\\\6 February 2019 NG Homes Dataset\\\\1P30A01R3.dat', 'Dataset_848\\\\6 February 2019 NG Homes Dataset\\\\1P31A01R1.dat', 'Dataset_848\\\\6 February 2019 NG Homes Dataset\\\\1P31A01R2.dat', 'Dataset_848\\\\6 February 2019 NG Homes Dataset\\\\1P31A01R3.dat', 'Dataset_848\\\\6 February 2019 NG Homes Dataset\\\\1P32A01R1.dat', 'Dataset_848\\\\6 February 2019 NG Homes Dataset\\\\1P32A01R2.dat', 'Dataset_848\\\\6 February 2019 NG Homes Dataset\\\\1P32A01R3.dat', 'Dataset_848\\\\6 February 2019 NG Homes Dataset\\\\1P33A01R1.dat', 'Dataset_848\\\\6 February 2019 NG Homes Dataset\\\\1P33A01R2.dat', 'Dataset_848\\\\6 February 2019 NG Homes Dataset\\\\1P33A01R3.dat', 'Dataset_848\\\\6 February 2019 NG Homes Dataset\\\\1P34A01R1.dat', 'Dataset_848\\\\6 February 2019 NG Homes Dataset\\\\1P34A01R2.dat', 'Dataset_848\\\\6 February 2019 NG Homes Dataset\\\\1P34A01R3.dat', 'Dataset_848\\\\6 February 2019 NG Homes Dataset\\\\1P35A01R1.dat', 'Dataset_848\\\\6 February 2019 NG Homes Dataset\\\\1P35A01R2.dat', 'Dataset_848\\\\6 February 2019 NG Homes Dataset\\\\1P35A01R3.dat', 'Dataset_848\\\\6 February 2019 NG Homes Dataset\\\\1P36A01R1.dat', 'Dataset_848\\\\6 February 2019 NG Homes Dataset\\\\1P36A01R2.dat', 'Dataset_848\\\\6 February 2019 NG Homes Dataset\\\\1P36A01R3.dat', 'Dataset_848\\\\6 February 2019 NG Homes Dataset\\\\2P08A02R1.dat', 'Dataset_848\\\\6 February 2019 NG Homes Dataset\\\\2P08A02R2.dat', 'Dataset_848\\\\6 February 2019 NG Homes Dataset\\\\2P08A02R3.dat', 'Dataset_848\\\\6 February 2019 NG Homes Dataset\\\\2P18A02R1.dat', 'Dataset_848\\\\6 February 2019 NG Homes Dataset\\\\2P18A02R2.dat', 'Dataset_848\\\\6 February 2019 NG Homes Dataset\\\\2P18A02R3.dat', 'Dataset_848\\\\6 February 2019 NG Homes Dataset\\\\2P19A02R1.dat', 'Dataset_848\\\\6 February 2019 NG Homes Dataset\\\\2P19A02R2.dat', 'Dataset_848\\\\6 February 2019 NG Homes Dataset\\\\2P19A02R3.dat', 'Dataset_848\\\\6 February 2019 NG Homes Dataset\\\\2P20A02R1.dat', 'Dataset_848\\\\6 February 2019 NG Homes Dataset\\\\2P20A02R2.dat', 'Dataset_848\\\\6 February 2019 NG Homes Dataset\\\\2P20A02R3.dat', 'Dataset_848\\\\6 February 2019 NG Homes Dataset\\\\2P21A02R1.dat', 'Dataset_848\\\\6 February 2019 NG Homes Dataset\\\\2P21A02R2.dat', 'Dataset_848\\\\6 February 2019 NG Homes Dataset\\\\2P21A02R3.dat', 'Dataset_848\\\\6 February 2019 NG Homes Dataset\\\\2P22A02R1.dat', 'Dataset_848\\\\6 February 2019 NG Homes Dataset\\\\2P22A02R2.dat', 'Dataset_848\\\\6 February 2019 NG Homes Dataset\\\\2P22A02R3.dat', 'Dataset_848\\\\6 February 2019 NG Homes Dataset\\\\2P23A02R1.dat', 'Dataset_848\\\\6 February 2019 NG Homes Dataset\\\\2P23A02R2.dat', 'Dataset_848\\\\6 February 2019 NG Homes Dataset\\\\2P23A02R3.dat', 'Dataset_848\\\\6 February 2019 NG Homes Dataset\\\\2P24A02R1.dat', 'Dataset_848\\\\6 February 2019 NG Homes Dataset\\\\2P24A02R2.dat', 'Dataset_848\\\\6 February 2019 NG Homes Dataset\\\\2P24A02R3.dat', 'Dataset_848\\\\6 February 2019 NG Homes Dataset\\\\2P25A02R1.dat', 'Dataset_848\\\\6 February 2019 NG Homes Dataset\\\\2P25A02R2.dat', 'Dataset_848\\\\6 February 2019 NG Homes Dataset\\\\2P25A02R3.dat', 'Dataset_848\\\\6 February 2019 NG Homes Dataset\\\\2P26A02R1.dat', 'Dataset_848\\\\6 February 2019 NG Homes Dataset\\\\2P26A02R2.dat', 'Dataset_848\\\\6 February 2019 NG Homes Dataset\\\\2P26A02R3.dat', 'Dataset_848\\\\6 February 2019 NG Homes Dataset\\\\2P27A02R1.dat', 'Dataset_848\\\\6 February 2019 NG Homes Dataset\\\\2P27A02R2.dat', 'Dataset_848\\\\6 February 2019 NG Homes Dataset\\\\2P27A02R3.dat', 'Dataset_848\\\\6 February 2019 NG Homes Dataset\\\\2P28A02R1.dat', 'Dataset_848\\\\6 February 2019 NG Homes Dataset\\\\2P28A02R2.dat', 'Dataset_848\\\\6 February 2019 NG Homes Dataset\\\\2P28A02R3.dat', 'Dataset_848\\\\6 February 2019 NG Homes Dataset\\\\2P29A02R1.dat', 'Dataset_848\\\\6 February 2019 NG Homes Dataset\\\\2P29A02R2.dat', 'Dataset_848\\\\6 February 2019 NG Homes Dataset\\\\2P29A02R3.dat', 'Dataset_848\\\\6 February 2019 NG Homes Dataset\\\\2P30A02R1.dat', 'Dataset_848\\\\6 February 2019 NG Homes Dataset\\\\2P30A02R2.dat', 'Dataset_848\\\\6 February 2019 NG Homes Dataset\\\\2P30A02R3.dat', 'Dataset_848\\\\6 February 2019 NG Homes Dataset\\\\2P31A02R1.dat', 'Dataset_848\\\\6 February 2019 NG Homes Dataset\\\\2P31A02R2.dat', 'Dataset_848\\\\6 February 2019 NG Homes Dataset\\\\2P31A02R3.dat', 'Dataset_848\\\\6 February 2019 NG Homes Dataset\\\\2P32A02R1.dat', 'Dataset_848\\\\6 February 2019 NG Homes Dataset\\\\2P32A02R2.dat', 'Dataset_848\\\\6 February 2019 NG Homes Dataset\\\\2P32A02R3.dat', 'Dataset_848\\\\6 February 2019 NG Homes Dataset\\\\2P33A02R1.dat', 'Dataset_848\\\\6 February 2019 NG Homes Dataset\\\\2P33A02R2.dat', 'Dataset_848\\\\6 February 2019 NG Homes Dataset\\\\2P33A02R3.dat', 'Dataset_848\\\\6 February 2019 NG Homes Dataset\\\\2P34A02R1.dat', 'Dataset_848\\\\6 February 2019 NG Homes Dataset\\\\2P34A02R2.dat', 'Dataset_848\\\\6 February 2019 NG Homes Dataset\\\\2P34A02R3.dat', 'Dataset_848\\\\6 February 2019 NG Homes Dataset\\\\2P35A02R1.dat', 'Dataset_848\\\\6 February 2019 NG Homes Dataset\\\\2P35A02R2.dat', 'Dataset_848\\\\6 February 2019 NG Homes Dataset\\\\2P35A02R3.dat', 'Dataset_848\\\\6 February 2019 NG Homes Dataset\\\\2P36A02R1.dat', 'Dataset_848\\\\6 February 2019 NG Homes Dataset\\\\2P36A02R2.dat', 'Dataset_848\\\\6 February 2019 NG Homes Dataset\\\\2P36A02R3.dat', 'Dataset_848\\\\6 February 2019 NG Homes Dataset\\\\3P08A03R1.dat', 'Dataset_848\\\\6 February 2019 NG Homes Dataset\\\\3P08A03R2.dat', 'Dataset_848\\\\6 February 2019 NG Homes Dataset\\\\3P08A03R3.dat', 'Dataset_848\\\\6 February 2019 NG Homes Dataset\\\\3P18A03R1.dat', 'Dataset_848\\\\6 February 2019 NG Homes Dataset\\\\3P18A03R2.dat', 'Dataset_848\\\\6 February 2019 NG Homes Dataset\\\\3P18A03R3.dat', 'Dataset_848\\\\6 February 2019 NG Homes Dataset\\\\3P19A03R1.dat', 'Dataset_848\\\\6 February 2019 NG Homes Dataset\\\\3P19A03R2.dat', 'Dataset_848\\\\6 February 2019 NG Homes Dataset\\\\3P19A03R3.dat', 'Dataset_848\\\\6 February 2019 NG Homes Dataset\\\\3P20A03R1.dat', 'Dataset_848\\\\6 February 2019 NG Homes Dataset\\\\3P20A03R2.dat', 'Dataset_848\\\\6 February 2019 NG Homes Dataset\\\\3P20A03R3.dat', 'Dataset_848\\\\6 February 2019 NG Homes Dataset\\\\3P21A03R1.dat', 'Dataset_848\\\\6 February 2019 NG Homes Dataset\\\\3P21A03R2.dat', 'Dataset_848\\\\6 February 2019 NG Homes Dataset\\\\3P21A03R3.dat', 'Dataset_848\\\\6 February 2019 NG Homes Dataset\\\\3P22A03R1.dat', 'Dataset_848\\\\6 February 2019 NG Homes Dataset\\\\3P22A03R2.dat', 'Dataset_848\\\\6 February 2019 NG Homes Dataset\\\\3P22A03R3.dat', 'Dataset_848\\\\6 February 2019 NG Homes Dataset\\\\3P23A03R1.dat', 'Dataset_848\\\\6 February 2019 NG Homes Dataset\\\\3P23A03R2.dat', 'Dataset_848\\\\6 February 2019 NG Homes Dataset\\\\3P23A03R3.dat', 'Dataset_848\\\\6 February 2019 NG Homes Dataset\\\\3P24A03R1.dat', 'Dataset_848\\\\6 February 2019 NG Homes Dataset\\\\3P24A03R2.dat', 'Dataset_848\\\\6 February 2019 NG Homes Dataset\\\\3P24A03R3.dat', 'Dataset_848\\\\6 February 2019 NG Homes Dataset\\\\3P25A03R1.dat', 'Dataset_848\\\\6 February 2019 NG Homes Dataset\\\\3P25A03R2.dat', 'Dataset_848\\\\6 February 2019 NG Homes Dataset\\\\3P25A03R3.dat', 'Dataset_848\\\\6 February 2019 NG Homes Dataset\\\\3P26A03R1.dat', 'Dataset_848\\\\6 February 2019 NG Homes Dataset\\\\3P26A03R2.dat', 'Dataset_848\\\\6 February 2019 NG Homes Dataset\\\\3P26A03R3.dat', 'Dataset_848\\\\6 February 2019 NG Homes Dataset\\\\3P27A03R1.dat', 'Dataset_848\\\\6 February 2019 NG Homes Dataset\\\\3P27A03R2.dat', 'Dataset_848\\\\6 February 2019 NG Homes Dataset\\\\3P27A03R3.dat', 'Dataset_848\\\\6 February 2019 NG Homes Dataset\\\\3P28A03R1.dat', 'Dataset_848\\\\6 February 2019 NG Homes Dataset\\\\3P28A03R2.dat', 'Dataset_848\\\\6 February 2019 NG Homes Dataset\\\\3P28A03R3.dat', 'Dataset_848\\\\6 February 2019 NG Homes Dataset\\\\3P29A03R1.dat', 'Dataset_848\\\\6 February 2019 NG Homes Dataset\\\\3P29A03R2.dat', 'Dataset_848\\\\6 February 2019 NG Homes Dataset\\\\3P29A03R3.dat', 'Dataset_848\\\\6 February 2019 NG Homes Dataset\\\\3P30A03R1.dat', 'Dataset_848\\\\6 February 2019 NG Homes Dataset\\\\3P30A03R2.dat', 'Dataset_848\\\\6 February 2019 NG Homes Dataset\\\\3P30A03R3.dat', 'Dataset_848\\\\6 February 2019 NG Homes Dataset\\\\3P31A03R1.dat', 'Dataset_848\\\\6 February 2019 NG Homes Dataset\\\\3P31A03R2.dat', 'Dataset_848\\\\6 February 2019 NG Homes Dataset\\\\3P31A03R3.dat', 'Dataset_848\\\\6 February 2019 NG Homes Dataset\\\\3P32A03R1.dat', 'Dataset_848\\\\6 February 2019 NG Homes Dataset\\\\3P32A03R2.dat', 'Dataset_848\\\\6 February 2019 NG Homes Dataset\\\\3P32A03R3.dat', 'Dataset_848\\\\6 February 2019 NG Homes Dataset\\\\3P33A03R1.dat', 'Dataset_848\\\\6 February 2019 NG Homes Dataset\\\\3P33A03R2.dat', 'Dataset_848\\\\6 February 2019 NG Homes Dataset\\\\3P33A03R3.dat', 'Dataset_848\\\\6 February 2019 NG Homes Dataset\\\\3P34A03R1.dat', 'Dataset_848\\\\6 February 2019 NG Homes Dataset\\\\3P34A03R2.dat', 'Dataset_848\\\\6 February 2019 NG Homes Dataset\\\\3P34A03R3.dat', 'Dataset_848\\\\6 February 2019 NG Homes Dataset\\\\3P35A03R1.dat', 'Dataset_848\\\\6 February 2019 NG Homes Dataset\\\\3P35A03R2.dat', 'Dataset_848\\\\6 February 2019 NG Homes Dataset\\\\3P35A03R3.dat', 'Dataset_848\\\\6 February 2019 NG Homes Dataset\\\\3P36A03R1.dat', 'Dataset_848\\\\6 February 2019 NG Homes Dataset\\\\3P36A03R2.dat', 'Dataset_848\\\\6 February 2019 NG Homes Dataset\\\\3P36A03R3.dat', 'Dataset_848\\\\6 February 2019 NG Homes Dataset\\\\4P08A04R1.dat', 'Dataset_848\\\\6 February 2019 NG Homes Dataset\\\\4P08A04R2.dat', 'Dataset_848\\\\6 February 2019 NG Homes Dataset\\\\4P08A04R3.dat', 'Dataset_848\\\\6 February 2019 NG Homes Dataset\\\\4P18A04R1.dat', 'Dataset_848\\\\6 February 2019 NG Homes Dataset\\\\4P18A04R2.dat', 'Dataset_848\\\\6 February 2019 NG Homes Dataset\\\\4P18A04R3.dat', 'Dataset_848\\\\6 February 2019 NG Homes Dataset\\\\4P19A04R1.dat', 'Dataset_848\\\\6 February 2019 NG Homes Dataset\\\\4P19A04R2.dat', 'Dataset_848\\\\6 February 2019 NG Homes Dataset\\\\4P19A04R3.dat', 'Dataset_848\\\\6 February 2019 NG Homes Dataset\\\\4P20A04R1.dat', 'Dataset_848\\\\6 February 2019 NG Homes Dataset\\\\4P20A04R2.dat', 'Dataset_848\\\\6 February 2019 NG Homes Dataset\\\\4P20A04R3.dat', 'Dataset_848\\\\6 February 2019 NG Homes Dataset\\\\4P21A04R1.dat', 'Dataset_848\\\\6 February 2019 NG Homes Dataset\\\\4P21A04R2.dat', 'Dataset_848\\\\6 February 2019 NG Homes Dataset\\\\4P21A04R3.dat', 'Dataset_848\\\\6 February 2019 NG Homes Dataset\\\\4P22A04R1.dat', 'Dataset_848\\\\6 February 2019 NG Homes Dataset\\\\4P22A04R2.dat', 'Dataset_848\\\\6 February 2019 NG Homes Dataset\\\\4P22A04R3.dat', 'Dataset_848\\\\6 February 2019 NG Homes Dataset\\\\4P23A04R1.dat', 'Dataset_848\\\\6 February 2019 NG Homes Dataset\\\\4P23A04R2.dat', 'Dataset_848\\\\6 February 2019 NG Homes Dataset\\\\4P23A04R3.dat', 'Dataset_848\\\\6 February 2019 NG Homes Dataset\\\\4P24A04R1.dat', 'Dataset_848\\\\6 February 2019 NG Homes Dataset\\\\4P24A04R2.dat', 'Dataset_848\\\\6 February 2019 NG Homes Dataset\\\\4P24A04R3.dat', 'Dataset_848\\\\6 February 2019 NG Homes Dataset\\\\4P25A04R1.dat', 'Dataset_848\\\\6 February 2019 NG Homes Dataset\\\\4P25A04R2.dat', 'Dataset_848\\\\6 February 2019 NG Homes Dataset\\\\4P25A04R3.dat', 'Dataset_848\\\\6 February 2019 NG Homes Dataset\\\\4P26A04R1.dat', 'Dataset_848\\\\6 February 2019 NG Homes Dataset\\\\4P26A04R2.dat', 'Dataset_848\\\\6 February 2019 NG Homes Dataset\\\\4P26A04R3.dat', 'Dataset_848\\\\6 February 2019 NG Homes Dataset\\\\4P27A04R1.dat', 'Dataset_848\\\\6 February 2019 NG Homes Dataset\\\\4P27A04R2.dat', 'Dataset_848\\\\6 February 2019 NG Homes Dataset\\\\4P27A04R3.dat', 'Dataset_848\\\\6 February 2019 NG Homes Dataset\\\\4P28A04R1.dat', 'Dataset_848\\\\6 February 2019 NG Homes Dataset\\\\4P28A04R2.dat', 'Dataset_848\\\\6 February 2019 NG Homes Dataset\\\\4P28A04R3.dat', 'Dataset_848\\\\6 February 2019 NG Homes Dataset\\\\4P29A04R1.dat', 'Dataset_848\\\\6 February 2019 NG Homes Dataset\\\\4P29A04R2.dat', 'Dataset_848\\\\6 February 2019 NG Homes Dataset\\\\4P29A04R3.dat', 'Dataset_848\\\\6 February 2019 NG Homes Dataset\\\\4P30A04R1.dat', 'Dataset_848\\\\6 February 2019 NG Homes Dataset\\\\4P30A04R2.dat', 'Dataset_848\\\\6 February 2019 NG Homes Dataset\\\\4P30A04R3.dat', 'Dataset_848\\\\6 February 2019 NG Homes Dataset\\\\4P31A04R1.dat', 'Dataset_848\\\\6 February 2019 NG Homes Dataset\\\\4P31A04R2.dat', 'Dataset_848\\\\6 February 2019 NG Homes Dataset\\\\4P31A04R3.dat', 'Dataset_848\\\\6 February 2019 NG Homes Dataset\\\\4P32A04R1.dat', 'Dataset_848\\\\6 February 2019 NG Homes Dataset\\\\4P32A04R2.dat', 'Dataset_848\\\\6 February 2019 NG Homes Dataset\\\\4P32A04R3.dat', 'Dataset_848\\\\6 February 2019 NG Homes Dataset\\\\4P33A04R1.dat', 'Dataset_848\\\\6 February 2019 NG Homes Dataset\\\\4P33A04R2.dat', 'Dataset_848\\\\6 February 2019 NG Homes Dataset\\\\4P33A04R3.dat', 'Dataset_848\\\\6 February 2019 NG Homes Dataset\\\\4P34A04R1.dat', 'Dataset_848\\\\6 February 2019 NG Homes Dataset\\\\4P34A04R2.dat', 'Dataset_848\\\\6 February 2019 NG Homes Dataset\\\\4P34A04R3.dat', 'Dataset_848\\\\6 February 2019 NG Homes Dataset\\\\4P35A04R1.dat', 'Dataset_848\\\\6 February 2019 NG Homes Dataset\\\\4P35A04R2.dat', 'Dataset_848\\\\6 February 2019 NG Homes Dataset\\\\4P35A04R3.dat', 'Dataset_848\\\\6 February 2019 NG Homes Dataset\\\\4P36A04R1.dat', 'Dataset_848\\\\6 February 2019 NG Homes Dataset\\\\4P36A04R2.dat', 'Dataset_848\\\\6 February 2019 NG Homes Dataset\\\\4P36A04R3.dat', 'Dataset_848\\\\6 February 2019 NG Homes Dataset\\\\5P08A05R1.dat', 'Dataset_848\\\\6 February 2019 NG Homes Dataset\\\\5P08A05R2.dat', 'Dataset_848\\\\6 February 2019 NG Homes Dataset\\\\5P08A05R3.dat', 'Dataset_848\\\\6 February 2019 NG Homes Dataset\\\\5P18A05R1.dat', 'Dataset_848\\\\6 February 2019 NG Homes Dataset\\\\5P18A05R2.dat', 'Dataset_848\\\\6 February 2019 NG Homes Dataset\\\\5P18A05R3.dat', 'Dataset_848\\\\6 February 2019 NG Homes Dataset\\\\5P19A05R1.dat', 'Dataset_848\\\\6 February 2019 NG Homes Dataset\\\\5P19A05R2.dat', 'Dataset_848\\\\6 February 2019 NG Homes Dataset\\\\5P19A05R3.dat', 'Dataset_848\\\\6 February 2019 NG Homes Dataset\\\\5P20A05R1.dat', 'Dataset_848\\\\6 February 2019 NG Homes Dataset\\\\5P20A05R2.dat', 'Dataset_848\\\\6 February 2019 NG Homes Dataset\\\\5P20A05R3.dat', 'Dataset_848\\\\6 February 2019 NG Homes Dataset\\\\5P21A05R1.dat', 'Dataset_848\\\\6 February 2019 NG Homes Dataset\\\\5P21A05R2.dat', 'Dataset_848\\\\6 February 2019 NG Homes Dataset\\\\5P21A05R3.dat', 'Dataset_848\\\\6 February 2019 NG Homes Dataset\\\\5P22A05R1.dat', 'Dataset_848\\\\6 February 2019 NG Homes Dataset\\\\5P22A05R2.dat', 'Dataset_848\\\\6 February 2019 NG Homes Dataset\\\\5P22A05R3.dat', 'Dataset_848\\\\6 February 2019 NG Homes Dataset\\\\5P23A05R1.dat', 'Dataset_848\\\\6 February 2019 NG Homes Dataset\\\\5P23A05R2.dat', 'Dataset_848\\\\6 February 2019 NG Homes Dataset\\\\5P23A05R3.dat', 'Dataset_848\\\\6 February 2019 NG Homes Dataset\\\\5P24A05R1.dat', 'Dataset_848\\\\6 February 2019 NG Homes Dataset\\\\5P24A05R2.dat', 'Dataset_848\\\\6 February 2019 NG Homes Dataset\\\\5P24A05R3.dat', 'Dataset_848\\\\6 February 2019 NG Homes Dataset\\\\5P25A05R1.dat', 'Dataset_848\\\\6 February 2019 NG Homes Dataset\\\\5P25A05R2.dat', 'Dataset_848\\\\6 February 2019 NG Homes Dataset\\\\5P25A05R3.dat', 'Dataset_848\\\\6 February 2019 NG Homes Dataset\\\\5P26A05R1.dat', 'Dataset_848\\\\6 February 2019 NG Homes Dataset\\\\5P26A05R2.dat', 'Dataset_848\\\\6 February 2019 NG Homes Dataset\\\\5P26A05R3.dat', 'Dataset_848\\\\6 February 2019 NG Homes Dataset\\\\5P27A05R1.dat', 'Dataset_848\\\\6 February 2019 NG Homes Dataset\\\\5P27A05R2.dat', 'Dataset_848\\\\6 February 2019 NG Homes Dataset\\\\5P27A05R3.dat', 'Dataset_848\\\\6 February 2019 NG Homes Dataset\\\\5P28A05R1.dat', 'Dataset_848\\\\6 February 2019 NG Homes Dataset\\\\5P28A05R2.dat', 'Dataset_848\\\\6 February 2019 NG Homes Dataset\\\\5P28A05R3.dat', 'Dataset_848\\\\6 February 2019 NG Homes Dataset\\\\5P29A05R1.dat', 'Dataset_848\\\\6 February 2019 NG Homes Dataset\\\\5P29A05R2.dat', 'Dataset_848\\\\6 February 2019 NG Homes Dataset\\\\5P29A05R3.dat', 'Dataset_848\\\\6 February 2019 NG Homes Dataset\\\\5P30A05R1.dat', 'Dataset_848\\\\6 February 2019 NG Homes Dataset\\\\5P30A05R2.dat', 'Dataset_848\\\\6 February 2019 NG Homes Dataset\\\\5P30A05R3.dat', 'Dataset_848\\\\6 February 2019 NG Homes Dataset\\\\5P31A05R1.dat', 'Dataset_848\\\\6 February 2019 NG Homes Dataset\\\\5P31A05R2.dat', 'Dataset_848\\\\6 February 2019 NG Homes Dataset\\\\5P31A05R3.dat', 'Dataset_848\\\\6 February 2019 NG Homes Dataset\\\\5P32A05R1.dat', 'Dataset_848\\\\6 February 2019 NG Homes Dataset\\\\5P32A05R2.dat', 'Dataset_848\\\\6 February 2019 NG Homes Dataset\\\\5P32A05R3.dat', 'Dataset_848\\\\6 February 2019 NG Homes Dataset\\\\5P33A05R1.dat', 'Dataset_848\\\\6 February 2019 NG Homes Dataset\\\\5P33A05R2.dat', 'Dataset_848\\\\6 February 2019 NG Homes Dataset\\\\5P33A05R3.dat', 'Dataset_848\\\\6 February 2019 NG Homes Dataset\\\\5P34A05R1.dat', 'Dataset_848\\\\6 February 2019 NG Homes Dataset\\\\5P34A05R2.dat', 'Dataset_848\\\\6 February 2019 NG Homes Dataset\\\\5P34A05R3.dat', 'Dataset_848\\\\6 February 2019 NG Homes Dataset\\\\5P35A05R1.dat', 'Dataset_848\\\\6 February 2019 NG Homes Dataset\\\\5P35A05R2.dat', 'Dataset_848\\\\6 February 2019 NG Homes Dataset\\\\5P35A05R3.dat', 'Dataset_848\\\\6 February 2019 NG Homes Dataset\\\\5P36A05R1.dat', 'Dataset_848\\\\6 February 2019 NG Homes Dataset\\\\5P36A05R2.dat', 'Dataset_848\\\\6 February 2019 NG Homes Dataset\\\\5P36A05R3.dat', 'Dataset_848\\\\6 February 2019 NG Homes Dataset\\\\6P08A06R1.dat', 'Dataset_848\\\\6 February 2019 NG Homes Dataset\\\\6P08A06R2.dat', 'Dataset_848\\\\6 February 2019 NG Homes Dataset\\\\6P08A06R3.dat']\n"
     ]
    }
   ],
   "source": [
    "files_feb= [f.path for f in os.scandir('Dataset_848\\\\6 February 2019 NG Homes Dataset\\\\') if f.is_file()]\n",
    "print(files_feb)\n",
    "\n",
    "ranges_feb=[]\n",
    "\n",
    "for filename in files_feb[:20]:\n",
    "    with open(filename, 'r') as file:\n",
    "        data = np.loadtxt(file, delimiter=' ', skiprows=4, dtype=np.complex_, converters=lambda s: complex(s.decode().replace('i', 'j')))\n",
    "        data_numsamples=len(data)\n",
    "        data_time=data_numsamples*t_sweep/n_rangebins\n",
    "        fs=int(n_rangebins/t_sweep)\n",
    "        n_sweeps=data_time/t_sweep\n",
    "\n",
    "        data = data.reshape(n_rangebins, int(n_sweeps), order='F')\n",
    "\n",
    "        data_fft = np.fft.fftshift(np.fft.fft(data, axis=0), axes=0)\n",
    "        data_fft = data_fft[int(n_rangebins/2):,:]\n",
    "        range_profile = signal.filtfilt(b, a, data_fft, axis=1)\n",
    "\n",
    "        prof=np.sum(range_profile,axis=0)\n",
    "\n",
    "        ranges_feb.append(range_profile)\n",
    "\n",
    "for i in range(len(ranges_feb)):\n",
    "    plt.figure()\n",
    "    plt.imshow(20*np.log(np.abs(ranges_feb[i])/np.max(np.abs(ranges_feb[i]))), aspect='auto', cmap='jet')\n",
    "    plt.colorbar()\n",
    "    plt.title('Range profile of the '+str(i)+'th sweep of the 6th of February dataset')\n",
    "    plt.xlabel('Sweeps')\n",
    "    plt.ylabel('Range bins')\n",
    "    plt.show()\n"
   ]
  }
 ],
 "metadata": {
  "kernelspec": {
   "display_name": "pytorch",
   "language": "python",
   "name": "python3"
  },
  "language_info": {
   "codemirror_mode": {
    "name": "ipython",
    "version": 3
   },
   "file_extension": ".py",
   "mimetype": "text/x-python",
   "name": "python",
   "nbconvert_exporter": "python",
   "pygments_lexer": "ipython3",
   "version": "3.9.16"
  }
 },
 "nbformat": 4,
 "nbformat_minor": 2
}
